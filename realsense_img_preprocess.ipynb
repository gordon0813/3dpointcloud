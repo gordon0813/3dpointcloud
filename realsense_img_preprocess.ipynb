{
 "cells": [
  {
   "cell_type": "code",
   "execution_count": 1,
   "metadata": {},
   "outputs": [],
   "source": [
    "\n",
    "\n",
    "# First import library\n",
    "import pyrealsense2 as rs\n",
    "# Import Numpy for easy array manipulation\n",
    "import numpy as np\n",
    "# Import OpenCV for easy image rendering\n",
    "import cv2\n",
    "# Import argparse for command-line options\n",
    "# Import os.path for file path manipulation\n",
    "import os.path\n",
    "\n",
    "\n",
    "# Parse the command line arguments to an object\n",
    "args = \"C:/Users/gordon/Documents/board_a.bag\"#ap  low_light\n",
    "# Safety if no parameter have been given\n",
    "if not args:\n",
    "    print(\"No input paramater have been given.\")\n",
    "    print(\"For help type --  help\")\n",
    "    exit()\n",
    "# Check if the given file have bag extension\n",
    "if os.path.splitext(args)[1] != \".bag\":\n",
    "    print(\"The given file is not of correct file format.\")\n",
    "    print(\"Only .bag files are accepted\")\n",
    "    exit()\n",
    "try:\n",
    "    # Create pipeline\n",
    "    pipeline = rs.pipeline()\n",
    "\n",
    "    # Create a config object\n",
    "    config = rs.config()\n",
    "\n",
    "    \n",
    "    # Tell config that we will use a recorded device from filem to be used by the pipeline through playback.\n",
    "    rs.config.enable_device_from_file(config, args)\n",
    "    # Configure the pipeline to stream the depth stream\n",
    "   # config.enable_stream(rs.stream.depth, 848, 480, rs.format.z16, 30)\n",
    "   # config.enable_stream(rs.stream.color, 1280, 720, rs.format.rgb8, 30)\n",
    "\n",
    "\n",
    "\n",
    "    # Start streaming from file\n",
    "    pipeline.start(config)\n",
    "\n",
    "    # Create opencv window to render image in\n",
    "    cv2.namedWindow(\"Depth Stream\", cv2.WINDOW_AUTOSIZE)\n",
    "   # color_cvt = cv2.cvtColor(color_image,cv2.COLOR_RGB2BGR)    #convert color to correct\n",
    "    cv2.namedWindow(\"Color Stream\", cv2.WINDOW_AUTOSIZE)\n",
    "\n",
    "    # Create colorizer object\n",
    "    colorizer = rs.colorizer();\n",
    "    tmp=[]\n",
    "    # Streaming loop\n",
    "    while True:\n",
    "        # Get frameset of depth\n",
    "        frames = pipeline.wait_for_frames()\n",
    "       # aligned_frames = align.process(frames)\n",
    "        # Get depth frame\n",
    "        color_frame=frames.get_color_frame()\n",
    "        align = rs.align(rs.stream.color)\n",
    "        frames = align.process(frames)\n",
    "        # Colorize depth frame to jet colormap\n",
    "        depth_frame=frames.get_depth_frame()\n",
    "        \n",
    "        #print(\"depth: \",depth_frame.get_frame_number(),\"color: \",color_frame.get_frame_number())\n",
    "        depth_color_frame = colorizer.colorize(depth_frame)\n",
    "\n",
    "        # Convert depth_frame to numpy array to render image in opencv\n",
    "        depth_color_image = np.asanyarray(depth_color_frame.get_data())\n",
    "        depth_gray_image = np.asanyarray(depth_frame.get_data())\n",
    "        color_image=np.asanyarray(color_frame.get_data())\n",
    "        gray=(depth_gray_image/3000*255).astype(\"uint8\")\n",
    "        tmp.append(np.asarray(depth_frame.get_data()).copy())\n",
    "        # Render image in opencv window\n",
    "        cv2.imshow(\"Depth Stream\", depth_color_image)\n",
    "        cv2.imshow(\"Color Stream\",color_image)\n",
    "    #cv2.imshow(\"Depth Stream\", depth_color_image)\n",
    "        key = cv2.waitKey(1)\n",
    "        # if pressed escape exit program\n",
    "        if key == 27:\n",
    "            cv2.destroyAllWindows()\n",
    "            break\n",
    "\n",
    "finally:\n",
    "    pass\n"
   ]
  },
  {
   "cell_type": "code",
   "execution_count": null,
   "metadata": {},
   "outputs": [],
   "source": [
    "depth_gray_image.max()"
   ]
  },
  {
   "cell_type": "code",
   "execution_count": 2,
   "metadata": {},
   "outputs": [],
   "source": [
    "# First import library\n",
    "import pyrealsense2 as rs\n",
    "# Import Numpy for easy array manipulation\n",
    "import numpy as np\n",
    "# Import OpenCV for easy image rendering\n",
    "import cv2\n",
    "# Import argparse for command-line options\n",
    "# Import os.path for file path manipulation\n",
    "import os.path\n",
    "args = \"C:/Users/gordon/Documents/board_c.bag\"#ap\n",
    "\n"
   ]
  },
  {
   "cell_type": "code",
   "execution_count": 3,
   "metadata": {},
   "outputs": [
    {
     "ename": "NameError",
     "evalue": "name 'pipeline' is not defined",
     "output_type": "error",
     "traceback": [
      "\u001b[1;31m---------------------------------------------------------------------------\u001b[0m",
      "\u001b[1;31mNameError\u001b[0m                                 Traceback (most recent call last)",
      "\u001b[1;32m<ipython-input-3-b757a591fa4f>\u001b[0m in \u001b[0;36m<module>\u001b[1;34m()\u001b[0m\n\u001b[0;32m      1\u001b[0m \u001b[1;32mfor\u001b[0m \u001b[0mi\u001b[0m \u001b[1;32min\u001b[0m \u001b[0mrange\u001b[0m\u001b[1;33m(\u001b[0m\u001b[1;36m100000\u001b[0m\u001b[1;33m)\u001b[0m\u001b[1;33m:\u001b[0m\u001b[1;33m\u001b[0m\u001b[0m\n\u001b[1;32m----> 2\u001b[1;33m     \u001b[0mframes\u001b[0m \u001b[1;33m=\u001b[0m \u001b[0mpipeline\u001b[0m\u001b[1;33m.\u001b[0m\u001b[0mwait_for_frames\u001b[0m\u001b[1;33m(\u001b[0m\u001b[1;33m)\u001b[0m\u001b[1;33m\u001b[0m\u001b[0m\n\u001b[0m\u001b[0;32m      3\u001b[0m     \u001b[0mdepth_frame\u001b[0m \u001b[1;33m=\u001b[0m \u001b[0mframes\u001b[0m\u001b[1;33m.\u001b[0m\u001b[0mget_depth_frame\u001b[0m\u001b[1;33m(\u001b[0m\u001b[1;33m)\u001b[0m\u001b[1;33m\u001b[0m\u001b[0m\n\u001b[0;32m      4\u001b[0m     \u001b[0mprint\u001b[0m\u001b[1;33m(\u001b[0m\u001b[0mdepth_frame\u001b[0m\u001b[1;33m.\u001b[0m\u001b[0mget_frame_number\u001b[0m\u001b[1;33m(\u001b[0m\u001b[1;33m)\u001b[0m\u001b[1;33m)\u001b[0m\u001b[1;33m\u001b[0m\u001b[0m\n\u001b[0;32m      5\u001b[0m     \u001b[0mdepth_gray_image\u001b[0m \u001b[1;33m=\u001b[0m \u001b[0mnp\u001b[0m\u001b[1;33m.\u001b[0m\u001b[0masanyarray\u001b[0m\u001b[1;33m(\u001b[0m\u001b[0mdepth_frame\u001b[0m\u001b[1;33m.\u001b[0m\u001b[0mget_data\u001b[0m\u001b[1;33m(\u001b[0m\u001b[1;33m)\u001b[0m\u001b[1;33m)\u001b[0m\u001b[1;33m\u001b[0m\u001b[0m\n",
      "\u001b[1;31mNameError\u001b[0m: name 'pipeline' is not defined"
     ]
    }
   ],
   "source": [
    "for i in range(100000):\n",
    "    frames = pipeline.wait_for_frames()\n",
    "    depth_frame = frames.get_depth_frame()\n",
    "    print(depth_frame.get_frame_number())\n",
    "    depth_gray_image = np.asanyarray(depth_frame.get_data())\n",
    "    gray=(depth_gray_image/depth_gray_image.max()*255).astype(int)"
   ]
  },
  {
   "cell_type": "code",
   "execution_count": null,
   "metadata": {},
   "outputs": [],
   "source": []
  },
  {
   "cell_type": "code",
   "execution_count": null,
   "metadata": {},
   "outputs": [],
   "source": [
    "cv2.destroyAllWindows()"
   ]
  },
  {
   "cell_type": "code",
   "execution_count": null,
   "metadata": {},
   "outputs": [],
   "source": [
    "import matplotlib.pyplot as plt\n",
    "plt.imshow(gray, cmap='gray', vmin=0, vmax=255)\n",
    "plt.show()"
   ]
  },
  {
   "cell_type": "code",
   "execution_count": null,
   "metadata": {},
   "outputs": [],
   "source": [
    "a.get(0)"
   ]
  },
  {
   "cell_type": "markdown",
   "metadata": {},
   "source": [
    "### start"
   ]
  },
  {
   "cell_type": "code",
   "execution_count": 2,
   "metadata": {},
   "outputs": [],
   "source": [
    "import time\n",
    "import matplotlib.pyplot as plt\n",
    "# First import library\n",
    "import pyrealsense2 as rs\n",
    "# Import Numpy for easy array manipulation\n",
    "import numpy as np\n",
    "# Import OpenCV for easy image rendering\n",
    "import cv2\n",
    "# Import argparse for command-line options\n",
    "# Import os.path for file path manipulation\n",
    "import os.path\n",
    "def finding_edge(frames):\n",
    "    arr=np.asarray(frames)\n",
    "    avg=non_zero_mean(frames)\n",
    "    maxdiff=max_tolerant_diff(avg)\n",
    "    noise=np.sum(np.logical_and(np.absolute(arr-avg)>maxdiff,arr!=0),axis=0)\n",
    "    noise_rate=noise/len(frames)\n",
    "    return noise_rate>0.2\n",
    "def get_critiacal_frames(start,lower,upper,cframes):\n",
    "    beforemask=1\n",
    "    totallightup=0\n",
    "    for i in range(30):\n",
    "        nowmask=  cv2.inRange(cframes[i], lower, upper)/255\n",
    "        totallightup+=(nowmask-beforemask>0)\n",
    "        beforemask=nowmask\n",
    "    avgmask=np.sum(totallightup)/30\n",
    "    print(\"avg: \",avgmask)\n",
    "    for i in range(max(start,30),len(cframes)):\n",
    "        nowmask=  cv2.inRange(cframes[i], lower, upper)/255\n",
    "        lightup=np.logical_and((nowmask-beforemask>0),np.average(cframes[i]-cframes[i-1],axis=2)>100)\n",
    "        if(np.sum(lightup)>3*avgmask):  #need more check\n",
    "            return i \n",
    "        beforemask=nowmask\n",
    "    print(\"fail to find critical\")\n",
    "    return 0\n",
    "def Hole_filling(arr):\n",
    "    for i in range(1,len(arr)-1):\n",
    "        mid0=arr[i]==0\n",
    "        bef0=arr[i-1]==0\n",
    "        aft0=arr[i+1]==0\n",
    "        arr[i]=arr[i]+np.logical_and(np.logical_not(bef0),np.logical_not(aft0))*(bef0+aft0)*0.5\n",
    "    return arr\n",
    "def smoothing(frame):\n",
    "    rleft=np.roll(frame,-1,axis=0)\n",
    "    rrigth=np.roll(frame,1,axis=0)\n",
    "    rup=np.roll(frame,1,axis=1)\n",
    "    rdown=np.roll(frame,1,axis=1)\n",
    "    total=frame+rleft+rrigth+rup+rdown\n",
    "    return total/(1+(rleft!=0)+(rrigth!=0)+(rup!=0)+(rdown!=0))\n",
    "def getbackground(dep):\n",
    "    allframe=np.asarray(dep)\n",
    "    allframe[allframe==0]=9999\n",
    "    bg=np.sort(allframe,axis=0)[(int)(len(allframe)*0.85)]\n",
    "    return bg   \n",
    "def non_zero_mean(frames):\n",
    "    arr=np.asarray(frames)\n",
    "    avg=np.sum(arr,axis=0)/np.sum( arr!=0 ,axis=0)\n",
    "    return np.nan_to_num(avg,0)\n",
    "def to_real_xyz(yi,xi,d):\n",
    "    x=-(xi/640-1.00078)*0.69243*d\n",
    "    y=-(yi/360-1.00139)*0.38887*d\n",
    "    z=d\n",
    "    return  x,y,z\n",
    "def max_tolerant_diff(depth):\n",
    "    return 2.5*(depth*depth*0.000006+0.0002*depth-0.9789)\n",
    "def savetopointcloud(file_name,depth_frame,color_frame,re=False):\n",
    "    points=[]\n",
    "    for y in range(depth_frame.shape[0]):\n",
    "        for x in range(depth_frame.shape[1]):\n",
    "            d=depth_frame[y,x]\n",
    "            if(d==0):\n",
    "                continue\n",
    "            xyz=to_real_xyz(y,x,d)\n",
    "            color=color_frame[y,x,:]\n",
    "            if(re==False):\n",
    "                points.append(\"%f %f %f %d %d %d\\n\"%(xyz+(color[2],color[1],color[0])))\n",
    "            else:\n",
    "                points.append(np.asarray((xyz+(color[0],color[1],color[2]))))\n",
    "    if(re==True):                  \n",
    "        return np.asarray(points)\n",
    "    file=open(file_name,\"w\")\n",
    "    file.write('''ply\n",
    "format ascii 1.0\n",
    "element vertex %d\n",
    "property float x\n",
    "property float y\n",
    "property float z\n",
    "property uchar blue\n",
    "property uchar green\n",
    "property uchar red\n",
    "end_header\n",
    "%s\n",
    "'''%(len(points),\"\".join(points)))\n",
    "    file.close()\n",
    "def savepointtofile(p,file_name):\n",
    "    points=[]\n",
    "    for i in p:\n",
    "        i=tuple(i)\n",
    "        if(len(i)==3):\n",
    "            i=i+(0,0,255)\n",
    "        points.append(\"%f %f %f %d %d %d\\n\"%i)\n",
    "    file=open(file_name,\"w\")\n",
    "    file.write('''ply\n",
    "format ascii 1.0\n",
    "element vertex %d\n",
    "property float x\n",
    "property float y\n",
    "property float z\n",
    "property uchar red\n",
    "property uchar green\n",
    "property uchar blue\n",
    "end_header\n",
    "%s\n",
    "'''%(len(points),\"\".join(points)))\n",
    "    file.close()\n",
    "def readallframes(path,start,maxframes,redepth,recolor):\n",
    "    time.sleep(0.01)\n",
    "    pipeline = rs.pipeline()\n",
    "    config = rs.config()\n",
    "    rs.config.enable_device_from_file(config, path)\n",
    "    #align_to = rs.stream.color # or also depth\n",
    "    #align = rs.align(align_to)\n",
    "    \n",
    "    framenumber=0\n",
    "    # Start streaming from file\n",
    "    pipeline.start(config)\n",
    "    count=0\n",
    "    frame_num=0\n",
    "    i=0\n",
    "    while True:\n",
    "        frames = pipeline.wait_for_frames()\n",
    "       \n",
    "        # Get depth frame\n",
    "        color_frame=frames.get_color_frame()\n",
    "        align = rs.align(rs.stream.color)\n",
    "        frames = align.process(frames)\n",
    "        # Colorize depth frame to jet colormap\n",
    "        depth_frame=frames.get_depth_frame()\n",
    "        if(i>start):\n",
    "            redepth.append(np.asarray(depth_frame.get_data()).copy())\n",
    "            recolor.append(np.asarray(color_frame.get_data()).copy())\n",
    "        i+=1\n",
    "        if(depth_frame.get_frame_number()<frame_num):\n",
    "            break\n",
    "        else:\n",
    "            frame_num=depth_frame.get_frame_number()\n",
    "    \n",
    "       # print(\"depth: \",depth_frame.get_frame_number(),\"color: \",color_frame.get_frame_number())\n",
    "        count+=1\n",
    "        if(count>maxframes):\n",
    "            break\n",
    "   # return redepth,recolor\n"
   ]
  },
  {
   "cell_type": "markdown",
   "metadata": {},
   "source": [
    "### first read in file"
   ]
  },
  {
   "cell_type": "code",
   "execution_count": 145,
   "metadata": {},
   "outputs": [
    {
     "data": {
      "text/plain": [
       "array([2, 4, 7])"
      ]
     },
     "execution_count": 145,
     "metadata": {},
     "output_type": "execute_result"
    }
   ],
   "source": [
    "np.sort([2,7,4])"
   ]
  },
  {
   "cell_type": "code",
   "execution_count": 3,
   "metadata": {},
   "outputs": [
    {
     "name": "stdout",
     "output_type": "stream",
     "text": [
      "172 172\n"
     ]
    },
    {
     "data": {
      "text/plain": [
       "array([[   0,    0,    0, ..., 1556, 1556, 1555],\n",
       "       [   0,    0,    0, ..., 1553, 1553, 1553],\n",
       "       [   0,    0,    0, ..., 1552, 1553, 1553],\n",
       "       ...,\n",
       "       [   0,    0,    0, ...,    0,    0,    0],\n",
       "       [   0,    0,    0, ...,    0,    0,    0],\n",
       "       [   0,    0,    0, ...,    0,    0,    0]], dtype=uint16)"
      ]
     },
     "execution_count": 3,
     "metadata": {},
     "output_type": "execute_result"
    }
   ],
   "source": [
    "red=[]\n",
    "rec=[]\n",
    "readallframes(\"C:/Users/gordon/Documents/1530mmbias.bag\",0,1000,red,rec)\n",
    "print(len(red),len(rec))\n",
    "red[1]"
   ]
  },
  {
   "cell_type": "code",
   "execution_count": 15,
   "metadata": {},
   "outputs": [],
   "source": [
    "for i in range(len(red)):\n",
    "    red[i][:,0:100]=0"
   ]
  },
  {
   "cell_type": "code",
   "execution_count": 17,
   "metadata": {
    "scrolled": true
   },
   "outputs": [
    {
     "name": "stderr",
     "output_type": "stream",
     "text": [
      "C:\\Users\\gordon\\Anaconda3\\lib\\site-packages\\ipykernel_launcher.py:57: RuntimeWarning: invalid value encountered in true_divide\n"
     ]
    },
    {
     "data": {
      "image/png": "[encoded data removed]",
      "text/plain": [
       "<matplotlib.figure.Figure at 0x2873894b2b0>"
      ]
     },
     "metadata": {
      "needs_background": "light"
     },
     "output_type": "display_data"
    }
   ],
   "source": [
    "import matplotlib.pyplot as plt\n",
    "plt.imshow((non_zero_mean(red[1:5])-non_zero_mean(red[6:11]))+10, cmap=\"hot\", interpolation='nearest')#(non_zero_mean(red[1:5])-non_zero_mean(red[6:11]))+10\n",
    "plt.show()"
   ]
  },
  {
   "cell_type": "code",
   "execution_count": 47,
   "metadata": {},
   "outputs": [
    {
     "name": "stderr",
     "output_type": "stream",
     "text": [
      "C:\\Users\\gordon\\Anaconda3\\lib\\site-packages\\ipykernel_launcher.py:57: RuntimeWarning: invalid value encountered in true_divide\n"
     ]
    }
   ],
   "source": [
    "allvar=[]\n",
    "xaxix=[1,2,3,4,5,7,9,11,14,17,20,25,30,50]\n",
    "totalavg=non_zero_mean(red)\n",
    "for k in xaxix:\n",
    "    var=[]\n",
    "    for i in range(5,150,max(k,6)):  \n",
    "        var.append(np.mean(np.abs(non_zero_mean(red[i:i+k])-totalavg)))\n",
    "    allvar.append(np.mean(var)\n"
   ]
  },
  {
   "cell_type": "code",
   "execution_count": 55,
   "metadata": {},
   "outputs": [
    {
     "name": "stdout",
     "output_type": "stream",
     "text": [
      "1 frames : var: 5.362285024864514\n",
      "2 frames : var: 3.6618010115184654\n",
      "3 frames : var: 2.922955823503428\n",
      "4 frames : var: 2.500048468546892\n",
      "5 frames : var: 2.2832414239061145\n",
      "7 frames : var: 1.8733830608162216\n",
      "9 frames : var: 1.6798413100048262\n",
      "11 frames : var: 1.5289440072561293\n",
      "14 frames : var: 1.3244497269964188\n",
      "17 frames : var: 1.2021651960350357\n",
      "20 frames : var: 1.0873020406873737\n",
      "25 frames : var: 0.9708184750667943\n",
      "30 frames : var: 0.8664493106652236\n",
      "50 frames : var: 0.6294496249293089\n"
     ]
    },
    {
     "data": {
      "text/plain": [
       "[<matplotlib.lines.Line2D at 0x28708427d68>]"
      ]
     },
     "execution_count": 55,
     "metadata": {},
     "output_type": "execute_result"
    },
    {
     "data": {
      "image/png": "[encoded data removed]",
      "text/plain": [
       "<matplotlib.figure.Figure at 0x28706fc9f28>"
      ]
     },
     "metadata": {
      "needs_background": "light"
     },
     "output_type": "display_data"
    }
   ],
   "source": [
    "for i in range(len(xaxix)):\n",
    "    print(str(xaxix[i])+\" frames : var: \"+str(allvar[i]))\n",
    "plt.plot(xaxix,allvar) "
   ]
  },
  {
   "cell_type": "code",
   "execution_count": 48,
   "metadata": {},
   "outputs": [
    {
     "data": {
      "text/plain": [
       "[<matplotlib.lines.Line2D at 0x287071b2748>]"
      ]
     },
     "execution_count": 48,
     "metadata": {},
     "output_type": "execute_result"
    },
    {
     "data": {
      "image/png": "[encoded data removed]",
      "text/plain": [
       "<matplotlib.figure.Figure at 0x28706fc91d0>"
      ]
     },
     "metadata": {
      "needs_background": "light"
     },
     "output_type": "display_data"
    }
   ],
   "source": []
  },
  {
   "cell_type": "markdown",
   "metadata": {},
   "source": [
    "import  matplotlib.pyplot  as  plt\n",
    "import statistics as st\n",
    "p11=[]\n",
    "p12=[]\n",
    "p21=[]\n",
    "p22=[]\n",
    "for i in red:\n",
    "    p11.append(i[240,480])\n",
    "    p12.append(i[242,480])\n",
    "    p21.append(i[240,482])\n",
    "    p22.append(i[242,482])\n",
    "fig, axs = plt.subplots(4)\n",
    "axs[0].plot(p11)\n",
    "axs[1].plot(p12)\n",
    "axs[2].plot(p21)\n",
    "axs[3].plot(p22)\n",
    "print(\"std :\",np.std(p11),np.std(p12),np.std(p21),np.std(p22))\n",
    "print(\"mean  :\"  ,np.mean(p11),np.mean(p12),np.mean(p21),np.mean(p22))"
   ]
  },
  {
   "cell_type": "code",
   "execution_count": 5,
   "metadata": {},
   "outputs": [],
   "source": [
    "def PCA(data, correlation = False, sort = True):\n",
    "    mean = np.mean(data, axis=0)\n",
    "    data_adjust = data - mean\n",
    "#: the data is transposed due to np.cov/corrcoef syntax\n",
    "    if correlation:\n",
    "        matrix = np.corrcoef(data_adjust.T)\n",
    "    else:\n",
    "        matrix = np.cov(data_adjust.T) \n",
    "    eigenvalues, eigenvectors = np.linalg.eig(matrix)\n",
    "    if sort:\n",
    "    #: sort eigenvalues and eigenvectors\n",
    "        sort = eigenvalues.argsort()[::-1]\n",
    "        eigenvalues = eigenvalues[sort]\n",
    "        eigenvectors = eigenvectors[:,sort]\n",
    "    return eigenvalues, eigenvectors\n",
    "def best_fitting_plane(points):\n",
    "    w, v = PCA(points)\n",
    "#: the normal of the plane is the last eigenvector\n",
    "    normal = v[:,2]\n",
    "#: get a point from the plane\n",
    "    point = np.mean(points, axis=0)\n",
    "    \n",
    "    a, b, c = normal\n",
    "    d = -(np.dot(normal, point))\n",
    "    return (point, normal , a, b, c, d)\n"
   ]
  },
  {
   "cell_type": "code",
   "execution_count": 5,
   "metadata": {},
   "outputs": [
    {
     "name": "stderr",
     "output_type": "stream",
     "text": [
      "C:\\Users\\gordon\\Anaconda3\\lib\\site-packages\\ipykernel_launcher.py:57: RuntimeWarning: invalid value encountered in true_divide\n"
     ]
    },
    {
     "data": {
      "text/plain": [
       "<matplotlib.image.AxesImage at 0x2413dfaca90>"
      ]
     },
     "execution_count": 5,
     "metadata": {},
     "output_type": "execute_result"
    },
    {
     "data": {
      "image/png": "[encoded data removed]",
      "text/plain": [
       "<matplotlib.figure.Figure at 0x2413d6d0550>"
      ]
     },
     "metadata": {
      "needs_background": "light"
     },
     "output_type": "display_data"
    }
   ],
   "source": [
    "\n",
    "plt.imshow(finding_edge(red[0:30]), cmap=\"hot\", interpolation='nearest')"
   ]
  },
  {
   "cell_type": "code",
   "execution_count": 11,
   "metadata": {},
   "outputs": [
    {
     "name": "stderr",
     "output_type": "stream",
     "text": [
      "C:\\Users\\gordon\\Anaconda3\\lib\\site-packages\\ipykernel_launcher.py:57: RuntimeWarning: invalid value encountered in true_divide\n"
     ]
    }
   ],
   "source": [
    "savetopointcloud(\"low_light.ply\",non_zero_mean(red[1:5]),rec[3])#np.mean(np.asarray(red)[5:105,:,:],axis=0)\n",
    "      #  non_zero_mean(red[1:30])"
   ]
  },
  {
   "cell_type": "code",
   "execution_count": 5,
   "metadata": {},
   "outputs": [],
   "source": [
    "def green_mask(cframe):\n",
    "    newp=cframe*np.asarray([[[2,1,1]]])\n",
    "    truecolor=np.asarray([[[0,1,0.65]]])\n",
    "    mask=(np.sum((newp*truecolor),axis=2)/np.sqrt(np.sum(newp*newp,axis=2)*np.sum(truecolor*truecolor,axis=2)))>0.82\n",
    "    mask2=(np.sum(cframe,axis=2)>150)\n",
    "    return np.logical_and(mask,mask2).astype(np.uint8)\n",
    "def red_mask(cframe):\n",
    "    newp=cframe*np.asarray([[[1,0.8,0.8]]])\n",
    "    truecolor=np.asarray([[[1,0.1,0.1]]])\n",
    "    mask=(np.sum((newp*truecolor),axis=2)/np.sqrt(np.sum(newp*newp,axis=2)*np.sum(truecolor*truecolor,axis=2)))>0.9\n",
    "    mask2=(np.sum(cframe,axis=2)>50)\n",
    "    return np.logical_and(mask,mask2).astype(np.uint8)"
   ]
  },
  {
   "cell_type": "markdown",
   "metadata": {},
   "source": [
    "p=rec[116]\n",
    "lower=np.asarray([0,50,50])#need more check\n",
    "upper=np.asarray([15,255,200])#need more check\n",
    "mask =np.asarray([ cv2.inRange(p, lower, upper)])/255\n",
    "mask=np.moveaxis(mask,0,-1)\n",
    "img= (p*mask).astype(np.uint8)\n",
    "img = cv2.cvtColor(img, cv2.COLOR_RGB2BGR)\n",
    "cv2.imshow('My Image ori',cv2.cvtColor(p, cv2.COLOR_RGB2BGR))\n",
    "cv2.imshow('My Image mask',img)\n",
    "\n",
    "# 按下任意鍵則關閉所有視窗\n",
    "cv2.waitKey(0)\n",
    "cv2.destroyAllWindows()"
   ]
  },
  {
   "cell_type": "markdown",
   "metadata": {},
   "source": [
    "### second step : check finding critical frame & red dot &gplane"
   ]
  },
  {
   "cell_type": "code",
   "execution_count": 6,
   "metadata": {
    "scrolled": true
   },
   "outputs": [],
   "source": [
    "#critical=get_critiacal_frames(30,np.asarray([250,250,250]),np.asarray([255,255,255]),rec)\n",
    "critical=23\n",
    "p=rec[critical-5]\n",
    "redstd=red[critical-7:critical-3]\n",
    "mask =np.asarray([ red_mask(p)])+np.asarray([ green_mask(p)])\n",
    "mask=(mask>0)\n",
    "mask=np.moveaxis(mask,0,-1)\n",
    "img= (p*mask).astype(np.uint8)\n",
    "img = cv2.cvtColor(img, cv2.COLOR_RGB2BGR)\n",
    "cv2.imshow('My Image critical',cv2.cvtColor(rec[critical], cv2.COLOR_RGB2BGR))\n",
    "cv2.imshow('My Image ori',cv2.cvtColor(rec[critical-2], cv2.COLOR_RGB2BGR))\n",
    "cv2.imshow('My Image mask',img)\n",
    "\n",
    "# 按下任意鍵則關閉所有視窗\n",
    "cv2.waitKey(0)\n",
    "cv2.destroyAllWindows()"
   ]
  },
  {
   "cell_type": "code",
   "execution_count": 45,
   "metadata": {},
   "outputs": [
    {
     "data": {
      "text/plain": [
       "0"
      ]
     },
     "execution_count": 45,
     "metadata": {},
     "output_type": "execute_result"
    }
   ],
   "source": [
    "critical"
   ]
  },
  {
   "cell_type": "code",
   "execution_count": 16,
   "metadata": {},
   "outputs": [],
   "source": [
    "def show_img_gray(img):\n",
    "    img = np.asarray(img>0,dtype=np.uint8)\n",
    "    cv2.imshow('My Image mask',img)\n",
    "    cv2.waitKey(0)\n",
    "    cv2.destroyAllWindows()"
   ]
  },
  {
   "cell_type": "code",
   "execution_count": 240,
   "metadata": {},
   "outputs": [
    {
     "data": {
      "text/plain": [
       "2523"
      ]
     },
     "execution_count": 240,
     "metadata": {},
     "output_type": "execute_result"
    }
   ],
   "source": [
    "red[0][1,2]"
   ]
  },
  {
   "cell_type": "code",
   "execution_count": 31,
   "metadata": {},
   "outputs": [
    {
     "name": "stdout",
     "output_type": "stream",
     "text": [
      "avg:  543.9666666666667\n",
      "critical frame:  118\n"
     ]
    }
   ],
   "source": [
    "\n",
    "print(\"critical frame: \",get_critiacal_frames(0,np.asarray([245,245,245]),np.asarray([255,255,255]),rec) )     \n",
    "    "
   ]
  },
  {
   "cell_type": "markdown",
   "metadata": {},
   "source": [
    "### third check red dot finding"
   ]
  },
  {
   "cell_type": "code",
   "execution_count": 7,
   "metadata": {},
   "outputs": [
    {
     "name": "stdout",
     "output_type": "stream",
     "text": [
      "206792\n",
      "[array([[[1052,  157]],\n",
      "\n",
      "       [[1049,  302]],\n",
      "\n",
      "       [[1047,  349]],\n",
      "\n",
      "       [[1045,  370]],\n",
      "\n",
      "       [[ 999,  371]],\n",
      "\n",
      "       [[ 908,  372]],\n",
      "\n",
      "       [[ 771,  372]],\n",
      "\n",
      "       [[ 470,  371]],\n",
      "\n",
      "       [[ 461,  370]],\n",
      "\n",
      "       [[ 460,  253]],\n",
      "\n",
      "       [[ 460,  119]],\n",
      "\n",
      "       [[ 462,   10]],\n",
      "\n",
      "       [[ 464,    7]],\n",
      "\n",
      "       [[ 472,    6]],\n",
      "\n",
      "       [[ 474,    6]],\n",
      "\n",
      "       [[ 543,    8]],\n",
      "\n",
      "       [[ 839,   17]],\n",
      "\n",
      "       [[ 861,   18]],\n",
      "\n",
      "       [[1010,   25]],\n",
      "\n",
      "       [[1027,   26]],\n",
      "\n",
      "       [[1042,   27]],\n",
      "\n",
      "       [[1049,   28]],\n",
      "\n",
      "       [[1050,   29]],\n",
      "\n",
      "       [[1052,   36]]], dtype=int32)]\n",
      "211180.0\n",
      "(720, 1280, 3)\n",
      "[array([188, 489]), array([344, 762]), array([ 44, 761]), array([ 197, 1027])]\n"
     ]
    }
   ],
   "source": [
    "class Points():\n",
    "    def __init__(self,inid=0,place=(),num=0):\n",
    "        self.place=place\n",
    "        self.num=num\n",
    "        self.id=inid\n",
    "    def add(self,i,j):\n",
    "        self.place[0]+=i\n",
    "        self.place[1]+=j\n",
    "        self.num+=1\n",
    "    def __lt__(self, other):\n",
    "        return self.num<other.num\n",
    "    def __gt__(self,other):\n",
    "        return self.num>other.num\n",
    "    def __ne__(self,other):\n",
    "        return self.num!=other.num\n",
    "    def __eq__(self,other):\n",
    "       # print(\"in\")\n",
    "        return self.num==other.num\n",
    "class Connect_component():\n",
    "    def __init__(self,rdnum,gpnum):\n",
    "        self.gp=[]\n",
    "        self.rd=[]\n",
    "        for i in range(rdnum+1):\n",
    "            self.rd.append(Points())\n",
    "        for i in range(gpnum+1):\n",
    "            self.gp.append(Points())\n",
    "    def addrd(self,rid,i,j):\n",
    "        if(self.rd[rid]==Points()):\n",
    "            #print(\"add rd\")\n",
    "            self.rd[rid]=Points(rid,[i,j],1)\n",
    "        else :\n",
    "            self.rd[rid].add(i,j)\n",
    "    def addgp(self,gid,i,j):\n",
    "        if(self.gp[gid]==Points()):\n",
    "            self.gp[gid]=Points(gid,[i,j],1)\n",
    "        else :\n",
    "            #print(\"re\")\n",
    "            self.gp[gid].add(i,j)    \n",
    "\n",
    "\n",
    "    def gplane(self):\n",
    "        return max(self.gp)\n",
    "    def rdot(self,gplane):\n",
    "        self.rd.sort(reverse=True)\n",
    "        re=[]\n",
    "        for i in range(len(self.rd)):\n",
    "            if(len(self.rd[i].place)==0):\n",
    "                continue\n",
    "            core=np.asarray(self.rd[i].place)/(self.rd[i].num)\n",
    "            core=core.astype(int)\n",
    "           # print(core)\n",
    "            if(gplane[core[0],core[1]]!=0 and self.rd[i].num>5):\n",
    "                re.append(core)\n",
    "            if(len(re)==4):\n",
    "                break \n",
    "        return re\n",
    "\n",
    "cc=Connect_component(4,4)\n",
    "cc.addgp(1,1,1)\n",
    "cc.addgp(2,2,1)\n",
    "cc.addgp(1,1,2)\n",
    "cc.addgp(3,3,1)\n",
    "cc.addgp(4,4,1)\n",
    "cc.addrd(1,1,1)\n",
    "cc.addrd(2,2,1)\n",
    "cc.addrd(3,3,1)\n",
    "cc.addrd(2,2,2)\n",
    "\n",
    "  \n",
    "        \n",
    "        \n",
    "    \n",
    "def find_green_plane_red_dot(gpfilter,rdfilter):\n",
    "    num_labels_g, labels_im_g=cv2.connectedComponents(gpfilter)\n",
    "    num_labels_r, labels_im_r=cv2.connectedComponents(rdfilter)\n",
    "    #print((gpfilter+rdfilter)>0)\n",
    "    cc=Connect_component(num_labels_r,num_labels_g)\n",
    "    #find green plane and red dot exist in same labels_im_con class\n",
    "    #for i in range(gpfilter.shape[0])\n",
    "\n",
    "    for i in range (labels_im_g.shape[0]):\n",
    "        for j in range(labels_im_r.shape[1]):\n",
    "            if(labels_im_g[i,j]!=0): # \n",
    "                cc.addgp(labels_im_g[i,j],i,j)\n",
    "            if(labels_im_r[i,j]!=0): # \n",
    "                cc.addrd(labels_im_r[i,j],i,j)\n",
    "    gpid=cc.gplane().id #find connect_component which content green plane and \n",
    "    gplane=(labels_im_g==gpid)\n",
    "    im2, contours, hierarchy = cv2.findContours(gplane.astype(np.uint8), cv2.RETR_TREE, cv2.CHAIN_APPROX_SIMPLE)\n",
    "    print(np.sum(im2))\n",
    "    hull=[cv2.convexHull(contours[0], False)]\n",
    "    print(hull)\n",
    "    drawing = np.zeros((gplane.shape[0], gplane.shape[1], 3), np.uint8)\n",
    "    color = (0, 255, 0);\n",
    "    cv2.drawContours(drawing, hull, 0, color, -1)\n",
    "    print(np.sum(drawing/255))\n",
    "    mask=np.asarray([gplane])\n",
    "    mask=np.moveaxis(mask,0,-1)\n",
    "    img= (p*mask).astype(np.uint8)\n",
    "    img = cv2.cvtColor(img, cv2.COLOR_RGB2BGR)\n",
    "    print(img.shape)\n",
    "    redDot=cc.rdot(np.sum(drawing,axis=2))\n",
    "    print(redDot)\n",
    "    cv2.imshow('My Image ori',cv2.cvtColor(p, cv2.COLOR_RGB2BGR))\n",
    "    cv2.imshow('My Image mask',img)\n",
    "    cv2.imshow('My Image mask2',drawing)\n",
    "    cv2.waitKey(0)\n",
    "    cv2.destroyAllWindows()\n",
    "    return (gplane,redDot)\n",
    "greenplane,reddot=find_green_plane_red_dot(green_mask(p),red_mask(p))\n",
    "    \n",
    "    "
   ]
  },
  {
   "cell_type": "code",
   "execution_count": 8,
   "metadata": {},
   "outputs": [
    {
     "name": "stderr",
     "output_type": "stream",
     "text": [
      "C:\\Users\\gordon\\Anaconda3\\lib\\site-packages\\ipykernel_launcher.py:57: RuntimeWarning: invalid value encountered in true_divide\n"
     ]
    }
   ],
   "source": [
    "points=savetopointcloud(\"low_light.ply\",greenplane*non_zero_mean(redstd),p,re=True)\n",
    "def remove_bad_point(points):\n",
    "    re=[]\n",
    "    npoint=points[:,0:3]\n",
    "    avg=np.average(npoint,axis=0)\n",
    "    tf=np.linalg.norm(npoint-avg,axis=1)<500\n",
    "    for i in range(len(tf)):\n",
    "        if(tf[i]):\n",
    "            re.append(points[i])\n",
    "    return np.asarray(re)\n",
    "points=remove_bad_point(points)"
   ]
  },
  {
   "cell_type": "code",
   "execution_count": 30,
   "metadata": {},
   "outputs": [
    {
     "data": {
      "text/plain": [
       "array([-149.7470362 , -112.12509002, 1234.37613436,   16.79820371,\n",
       "        133.53394438,   96.4771989 ])"
      ]
     },
     "execution_count": 30,
     "metadata": {},
     "output_type": "execute_result"
    }
   ],
   "source": [
    "np.average(points,axis=0)"
   ]
  },
  {
   "cell_type": "code",
   "execution_count": 9,
   "metadata": {},
   "outputs": [],
   "source": [
    "point,Normalvector,a,b,c,d=best_fitting_plane(points[:,0:3])\n",
    "line=np.expand_dims(np.arange(-200,200),axis=1)*np.asarray([Normalvector])+np.asarray(point)"
   ]
  },
  {
   "cell_type": "code",
   "execution_count": 17,
   "metadata": {},
   "outputs": [],
   "source": [
    "savepointtofile(line.tolist(),\"points.ply\")"
   ]
  },
  {
   "cell_type": "code",
   "execution_count": 10,
   "metadata": {},
   "outputs": [
    {
     "name": "stdout",
     "output_type": "stream",
     "text": [
      "3 0 2 1\n"
     ]
    }
   ],
   "source": [
    "up=0\n",
    "upid=-1\n",
    "down=2000\n",
    "downid=-1\n",
    "left=2000\n",
    "leftid=-1\n",
    "right=0\n",
    "rightid=-1\n",
    "for i in range(len(reddot)):\n",
    "    if(reddot[i][0]<left):\n",
    "        leftid=i\n",
    "        left=reddot[i][0]\n",
    "    if(reddot[i][0]>right):\n",
    "        rightid=i\n",
    "        right=reddot[i][0]\n",
    "    if(reddot[i][1]<down):\n",
    "        downid=i\n",
    "        down=reddot[i][1]\n",
    "    if(reddot[i][1]>up):\n",
    "        upid=i\n",
    "        up=reddot[i][1]\n",
    "\n",
    "print(upid,downid,leftid,rightid)"
   ]
  },
  {
   "cell_type": "code",
   "execution_count": 11,
   "metadata": {},
   "outputs": [
    {
     "name": "stdout",
     "output_type": "stream",
     "text": [
      "[-648.6588459   273.96230085 1551.20803667] [ 239.68585691  272.47597357 1462.29894687] [-196.50750045  515.3111056  1507.27778935] [-197.80445106   26.81991719 1504.73845808]\n",
      "90.02631592408208 892.7840424368999 488.49951017724675\n"
     ]
    }
   ],
   "source": [
    "\n",
    "\n",
    "v1=np.asarray(to_real_xyz(reddot[upid][0],reddot[upid][1],0.1))\n",
    "ans1=v1*(-d/np.sum(v1*np.asarray([a,b,c])))\n",
    "v1=np.asarray(to_real_xyz(reddot[downid][0],reddot[downid][1],0.1))\n",
    "ans2=v1*(-d/np.sum(v1*np.asarray([a,b,c])))\n",
    "v1=np.asarray(to_real_xyz(reddot[leftid][0],reddot[leftid][1],0.1))\n",
    "ans3=v1*(-d/np.sum(v1*np.asarray([a,b,c])))\n",
    "v1=np.asarray(to_real_xyz(reddot[rightid][0],reddot[rightid][1],0.1))\n",
    "ans4=v1*(-d/np.sum(v1*np.asarray([a,b,c])))\n",
    "\n",
    "\n",
    "def unit_vector(vector):\n",
    "    return vector / np.linalg.norm(vector)\n",
    "def angle_between(v1, v2):\n",
    "    v1_u = unit_vector(v1)\n",
    "    v2_u = unit_vector(v2)\n",
    "    return np.arccos(np.clip(np.dot(v1_u, v2_u), -1.0, 1.0))\n",
    "print(ans1,ans2,ans3,ans4)\n",
    "print(angle_between((ans1-ans2),(ans3-ans4))/np.pi*180,np.linalg.norm((ans1-ans2)),np.linalg.norm((ans3-ans4)))"
   ]
  },
  {
   "cell_type": "code",
   "execution_count": 12,
   "metadata": {},
   "outputs": [
    {
     "name": "stderr",
     "output_type": "stream",
     "text": [
      "C:\\Users\\gordon\\Anaconda3\\lib\\site-packages\\ipykernel_launcher.py:57: RuntimeWarning: invalid value encountered in true_divide\n"
     ]
    }
   ],
   "source": [
    "def points_transform(vx,vy,vz,d,points):\n",
    "    re=[]\n",
    "    mat=np.asarray([vx/np.linalg.norm(vx),vy/np.linalg.norm(vy),vz/np.linalg.norm(vz)])\n",
    "    invmat=np.linalg.inv(mat)\n",
    "    for p in points:\n",
    "        re.append(np.matmul((np.asarray(p)-d),invmat))\n",
    "    return re\n",
    "\n",
    "#points_transform((ans1-ans2),(ans3-ans4),-Normalvector,(ans1+ans2)/2,[np.asarray([23,45,1200])])\n",
    "allpoints=savetopointcloud(\"low_light.ply\",non_zero_mean(redstd),rec[critical-5],re=True)\n",
    "point_after_transform=points_transform((ans1-ans2),(ans3-ans4),Normalvector,(ans1+ans2)/2,allpoints[:,0:3])\n",
    "point_after_transform_new =[]\n",
    "allcolor=[]\n",
    "for  i in range(len(point_after_transform)):\n",
    "    if(np.linalg.norm(point_after_transform[i])<4000):\n",
    "        point_after_transform_new.append(point_after_transform[i])\n",
    "        allcolor.append(allpoints[i,3:6])"
   ]
  },
  {
   "cell_type": "code",
   "execution_count": 24,
   "metadata": {},
   "outputs": [],
   "source": []
  },
  {
   "cell_type": "code",
   "execution_count": 69,
   "metadata": {},
   "outputs": [],
   "source": [
    "savepointtofile(np.concatenate((point_after_transform_new,allcolor),axis=1),\"stdpoints8.ply\")"
   ]
  },
  {
   "cell_type": "code",
   "execution_count": 264,
   "metadata": {},
   "outputs": [
    {
     "data": {
      "text/plain": [
       "(array([24.,  0.,  0.,  0.,  0.,  0.,  0.,  6., 42., 10.]),\n",
       " array([-1.54453966, -1.2919936 , -1.03944755, -0.78690149, -0.53435544,\n",
       "        -0.28180938, -0.02926333,  0.22328273,  0.47582878,  0.72837484,\n",
       "         0.98092089]),\n",
       " <a list of 10 Patch objects>)"
      ]
     },
     "execution_count": 264,
     "metadata": {},
     "output_type": "execute_result"
    },
    {
     "data": {
      "image/png": "[encoded data removed]",
      "text/plain": [
       "<matplotlib.figure.Figure at 0x138874ccd68>"
      ]
     },
     "metadata": {
      "needs_background": "light"
     },
     "output_type": "display_data"
    }
   ],
   "source": [
    "plt.hist((np.asarray(p11)-np.mean(p11))/np.std(p11))"
   ]
  },
  {
   "cell_type": "code",
   "execution_count": 120,
   "metadata": {},
   "outputs": [],
   "source": [
    "red=[]\n",
    "rec=[]\n",
    "readallframes(\"C:/Users/gordon/Documents/5_a.bag\",0,1000,red,rec)"
   ]
  },
  {
   "cell_type": "code",
   "execution_count": 121,
   "metadata": {
    "scrolled": true
   },
   "outputs": [
    {
     "data": {
      "text/plain": [
       "628"
      ]
     },
     "execution_count": 121,
     "metadata": {},
     "output_type": "execute_result"
    }
   ],
   "source": [
    "len(red)"
   ]
  },
  {
   "cell_type": "code",
   "execution_count": 128,
   "metadata": {},
   "outputs": [
    {
     "name": "stderr",
     "output_type": "stream",
     "text": [
      "C:\\Users\\gordon\\Anaconda3\\lib\\site-packages\\ipykernel_launcher.py:10: RuntimeWarning: invalid value encountered in true_divide\n",
      "  # Remove the CWD from sys.path while we load stuff.\n",
      "C:\\Users\\gordon\\Anaconda3\\lib\\site-packages\\ipykernel_launcher.py:10: RuntimeWarning: invalid value encountered in greater\n",
      "  # Remove the CWD from sys.path while we load stuff.\n",
      "C:\\Users\\gordon\\Anaconda3\\lib\\site-packages\\ipykernel_launcher.py:4: RuntimeWarning: invalid value encountered in true_divide\n",
      "  after removing the cwd from sys.path.\n",
      "C:\\Users\\gordon\\Anaconda3\\lib\\site-packages\\ipykernel_launcher.py:4: RuntimeWarning: invalid value encountered in greater\n",
      "  after removing the cwd from sys.path.\n"
     ]
    }
   ],
   "source": [
    "#critical=get_critiacal_frames(30,np.asarray([250,250,250]),np.asarray([255,255,255]),rec)\n",
    "critical=140\n",
    "p=rec[critical-5]\n",
    "redstd=red[critical-7:critical-3]\n",
    "mask =np.asarray([ red_mask(p)])+np.asarray([ green_mask(p)])\n",
    "mask=(mask>0)\n",
    "mask=np.moveaxis(mask,0,-1)\n",
    "img= (p*mask).astype(np.uint8)\n",
    "img = cv2.cvtColor(img, cv2.COLOR_RGB2BGR)\n",
    "cv2.imshow('My Image critical',cv2.cvtColor(rec[critical], cv2.COLOR_RGB2BGR))\n",
    "cv2.imshow('My Image ori',cv2.cvtColor(rec[critical+0], cv2.COLOR_RGB2BGR))\n",
    "cv2.imshow('My Image mask',img)\n",
    "\n",
    "# 按下任意鍵則關閉所有視窗\n",
    "cv2.waitKey(0)\n",
    "cv2.destroyAllWindows()"
   ]
  },
  {
   "cell_type": "code",
   "execution_count": 28,
   "metadata": {},
   "outputs": [
    {
     "data": {
      "text/plain": [
       "67"
      ]
     },
     "execution_count": 28,
     "metadata": {},
     "output_type": "execute_result"
    }
   ],
   "source": [
    "len(red[::10])"
   ]
  },
  {
   "cell_type": "code",
   "execution_count": 175,
   "metadata": {},
   "outputs": [],
   "source": [
    "bg=getbackground(red[::5])"
   ]
  },
  {
   "cell_type": "code",
   "execution_count": 179,
   "metadata": {},
   "outputs": [],
   "source": [
    "def NON_BG_MASK(bg,frame):\n",
    "    mask=bg-frame\n",
    "    return  mask>8*(0.000006*frame*frame+0.0002*frame)"
   ]
  },
  {
   "cell_type": "code",
   "execution_count": 180,
   "metadata": {},
   "outputs": [
    {
     "name": "stderr",
     "output_type": "stream",
     "text": [
      "C:\\Users\\gordon\\Anaconda3\\lib\\site-packages\\ipykernel_launcher.py:57: RuntimeWarning: invalid value encountered in true_divide\n"
     ]
    },
    {
     "name": "stdout",
     "output_type": "stream",
     "text": [
      "161764\n"
     ]
    }
   ],
   "source": [
    "need=non_zero_mean(red[critical-1:critical+1])\n",
    "allpoints=savetopointcloud(\"low_light.ply\",need*NON_BG_MASK(bg,need),rec[critical],re=True)\n",
    "print(len(allpoints))\n",
    "point_after_transform=points_transform((ans1-ans2),(ans3-ans4),Normalvector,(ans1+ans2)/2,allpoints[:,0:3])\n",
    "point_after_transform_new =[]\n",
    "allcolor=[]\n",
    "for  i in range(len(point_after_transform)):\n",
    "    if(np.linalg.norm(point_after_transform[i])<4000):\n",
    "        point_after_transform_new.append(point_after_transform[i])\n",
    "        allcolor.append(allpoints[i,3:6])\n",
    "savepointtofile(np.concatenate((point_after_transform_new,allcolor),axis=1),\"stdpoints10.ply\")"
   ]
  },
  {
   "cell_type": "code",
   "execution_count": 267,
   "metadata": {
    "scrolled": true
   },
   "outputs": [
    {
     "data": {
      "text/plain": [
       "array([[[0, 0, 0, ..., 0, 0, 0],\n",
       "        [0, 0, 0, ..., 0, 0, 0],\n",
       "        [0, 0, 0, ..., 0, 0, 0],\n",
       "        ...,\n",
       "        [0, 0, 0, ..., 0, 0, 0],\n",
       "        [0, 0, 0, ..., 0, 0, 0],\n",
       "        [0, 0, 0, ..., 0, 0, 0]],\n",
       "\n",
       "       [[0, 0, 0, ..., 0, 0, 0],\n",
       "        [0, 0, 0, ..., 0, 0, 0],\n",
       "        [0, 0, 0, ..., 0, 0, 0],\n",
       "        ...,\n",
       "        [0, 0, 0, ..., 0, 0, 0],\n",
       "        [0, 0, 0, ..., 0, 0, 0],\n",
       "        [0, 0, 0, ..., 0, 0, 0]],\n",
       "\n",
       "       [[0, 0, 0, ..., 0, 0, 0],\n",
       "        [0, 0, 0, ..., 0, 0, 0],\n",
       "        [0, 0, 0, ..., 0, 0, 0],\n",
       "        ...,\n",
       "        [0, 0, 0, ..., 0, 0, 0],\n",
       "        [0, 0, 0, ..., 0, 0, 0],\n",
       "        [0, 0, 0, ..., 0, 0, 0]],\n",
       "\n",
       "       ...,\n",
       "\n",
       "       [[0, 0, 0, ..., 0, 0, 0],\n",
       "        [0, 0, 0, ..., 0, 0, 0],\n",
       "        [0, 0, 0, ..., 0, 0, 0],\n",
       "        ...,\n",
       "        [0, 0, 0, ..., 0, 0, 0],\n",
       "        [0, 0, 0, ..., 0, 0, 0],\n",
       "        [0, 0, 0, ..., 0, 0, 0]],\n",
       "\n",
       "       [[0, 0, 0, ..., 0, 0, 0],\n",
       "        [0, 0, 0, ..., 0, 0, 0],\n",
       "        [0, 0, 0, ..., 0, 0, 0],\n",
       "        ...,\n",
       "        [0, 0, 0, ..., 0, 0, 0],\n",
       "        [0, 0, 0, ..., 0, 0, 0],\n",
       "        [0, 0, 0, ..., 0, 0, 0]],\n",
       "\n",
       "       [[0, 0, 0, ..., 0, 0, 0],\n",
       "        [0, 0, 0, ..., 0, 0, 0],\n",
       "        [0, 0, 0, ..., 0, 0, 0],\n",
       "        ...,\n",
       "        [0, 0, 0, ..., 0, 0, 0],\n",
       "        [0, 0, 0, ..., 0, 0, 0],\n",
       "        [0, 0, 0, ..., 0, 0, 0]]])"
      ]
     },
     "execution_count": 267,
     "metadata": {},
     "output_type": "execute_result"
    }
   ],
   "source": [
    "not_bg=np.logical_and((bg>red),np.asarray(red)>0)*255\n",
    "not_bg"
   ]
  },
  {
   "cell_type": "code",
   "execution_count": 271,
   "metadata": {},
   "outputs": [],
   "source": [
    "cv2.namedWindow(\"Color Stream 2\", cv2.WINDOW_AUTOSIZE)\n",
    "for i in range(not_bg.shape[0]):\n",
    "    cv2.imshow(\"Color Stream 2\",not_bg[i].astype(\"uint8\"))\n",
    "    #cv2.imshow(\"Depth Stream\", depth_color_image)\n",
    "    cv2.waitKey(30)\n",
    "cv2.destroyAllWindows()"
   ]
  },
  {
   "cell_type": "code",
   "execution_count": 269,
   "metadata": {},
   "outputs": [
    {
     "data": {
      "text/plain": [
       "array([[0, 0, 0, ..., 0, 0, 0],\n",
       "       [0, 0, 0, ..., 0, 0, 0],\n",
       "       [0, 0, 0, ..., 0, 0, 0],\n",
       "       ...,\n",
       "       [0, 0, 0, ..., 0, 0, 0],\n",
       "       [0, 0, 0, ..., 0, 0, 0],\n",
       "       [0, 0, 0, ..., 0, 0, 0]], dtype=uint8)"
      ]
     },
     "execution_count": 269,
     "metadata": {},
     "output_type": "execute_result"
    }
   ],
   "source": [
    "not_bg[68].astype(np.uint8)"
   ]
  },
  {
   "cell_type": "code",
   "execution_count": 270,
   "metadata": {},
   "outputs": [
    {
     "ename": "SyntaxError",
     "evalue": "invalid syntax (<ipython-input-270-f29aa5d04323>, line 3)",
     "output_type": "error",
     "traceback": [
      "\u001b[1;36m  File \u001b[1;32m\"<ipython-input-270-f29aa5d04323>\"\u001b[1;36m, line \u001b[1;32m3\u001b[0m\n\u001b[1;33m    for i in range(labels_im.):\u001b[0m\n\u001b[1;37m                             ^\u001b[0m\n\u001b[1;31mSyntaxError\u001b[0m\u001b[1;31m:\u001b[0m invalid syntax\n"
     ]
    }
   ],
   "source": [
    "num_labels, labels_im = cv2.connectedComponents(not_bg[68].astype(np.uint8))\n",
    "count=np.zeros(25)\n",
    "for i in range(labels_im.):\n",
    "    "
   ]
  },
  {
   "cell_type": "code",
   "execution_count": null,
   "metadata": {},
   "outputs": [],
   "source": [
    "def find_continue_ball(notbg,dframes,cframes):\n",
    "    for i in range(notbg.shape[0]):\n",
    "        num_labels, labels_im = cv2.connectedComponents(notbg[i])\n",
    "        "
   ]
  },
  {
   "cell_type": "code",
   "execution_count": null,
   "metadata": {},
   "outputs": [],
   "source": [
    " cv2.destroyAllWindows()"
   ]
  },
  {
   "cell_type": "code",
   "execution_count": null,
   "metadata": {},
   "outputs": [],
   "source": [
    "class connect_green_plane_red_dot():\n",
    "    def __init__(self,greenplane,reddot):\n",
    "        if(greenplane.shape !=reddot.shape):\n",
    "            raise Exception('shape dont match !!!!!')\n",
    "        self.gp=greenplane\n",
    "        self.rd=reddot\n",
    "        self.mask=np.zero(self.gp.shape)\n",
    "        self.record=[]\n",
    "    def scanAll(self):\n",
    "    def bfsOneObj(self,i,j):\n",
    "    \n"
   ]
  },
  {
   "cell_type": "code",
   "execution_count": 7,
   "metadata": {},
   "outputs": [
    {
     "data": {
      "text/plain": [
       "0.010489510489510492"
      ]
     },
     "execution_count": 7,
     "metadata": {},
     "output_type": "execute_result"
    }
   ],
   "source": [
    "n=14\n",
    "k=2\n",
    "(5+k)*(4+k)*(3+k)*(2+k)*(1+k)/n/(n-1)/(n-2)/(n-3)/(n-4)"
   ]
  },
  {
   "cell_type": "code",
   "execution_count": 8,
   "metadata": {},
   "outputs": [
    {
     "data": {
      "text/plain": [
       "0.13738632202148438"
      ]
     },
     "execution_count": 8,
     "metadata": {},
     "output_type": "execute_result"
    }
   ],
   "source": [
    "5*4*3/2*((7/16)**4)/8"
   ]
  },
  {
   "cell_type": "code",
   "execution_count": null,
   "metadata": {},
   "outputs": [],
   "source": []
  }
 ],
 "metadata": {
  "kernelspec": {
   "display_name": "Python 3",
   "language": "python",
   "name": "python3"
  },
  "language_info": {
   "codemirror_mode": {
    "name": "ipython",
    "version": 3
   },
   "file_extension": ".py",
   "mimetype": "text/x-python",
   "name": "python",
   "nbconvert_exporter": "python",
   "pygments_lexer": "ipython3",
   "version": "3.6.4"
  }
 },
 "nbformat": 4,
 "nbformat_minor": 2
}
